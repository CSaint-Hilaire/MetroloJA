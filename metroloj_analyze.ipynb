{
 "cells": [
  {
   "cell_type": "markdown",
   "id": "229984b0-103f-49b8-9e38-77ff70cdae5b",
   "metadata": {},
   "source": [
    "<img src=\"images/MetroloJA_logo_white.png\">"
   ]
  },
  {
   "cell_type": "code",
   "execution_count": 1,
   "id": "4545f268-7a4e-441f-b0f2-1bb09387b9f3",
   "metadata": {
    "tags": []
   },
   "outputs": [],
   "source": [
    "# Import\n",
    "from metroloja_lib import coreg_analyze as ca\n",
    "from metroloja_lib import psf_analyze as pa\n",
    "import tkinter as tk\n",
    "\n",
    "from IPython.display import display, Markdown, clear_output\n",
    "# widget packages\n",
    "import ipywidgets as widgets\n",
    "from IPython.display import display"
   ]
  },
  {
   "cell_type": "code",
   "execution_count": 2,
   "id": "ea9b0617-73f8-46eb-b530-219b8b975e15",
   "metadata": {
    "tags": []
   },
   "outputs": [],
   "source": [
    "def start(b):\n",
    "    with output:\n",
    "        master = tk.Tk()\n",
    "        master.geometry(\"400x200\")\n",
    "        master.title('What analyze do you want to treat ?')\n",
    "\n",
    "        v = tk.StringVar(master)\n",
    "\n",
    "        def ShowChoice():\n",
    "            global which_button_is_selected\n",
    "            which_button_is_selected = v.get()\n",
    "\n",
    "        values = {\"Resolution\" : \"1\",\n",
    "                  \"Coregistration\" : \"2\",\n",
    "                  \"Field Homogeneity\" : \"3\",\n",
    "                  \"Laser Power\" : \"4\"}\n",
    "\n",
    "        tk.Label(master, \n",
    "                 text=\"\"\"Choose your plot :\"\"\",\n",
    "                 justify = tk.LEFT,\n",
    "                 padx = 20).pack()\n",
    "\n",
    "\n",
    "        for (text, value) in values.items():\n",
    "            tk.Radiobutton(master, text = text, variable = v, value = value, indicator = 0, background = \"light blue\", command=ShowChoice).pack(fill = tk.X, ipady = 5, anchor=tk.W)\n",
    "\n",
    "\n",
    "        button = tk.Button(\n",
    "            master,\n",
    "            text=\"Get Selected\",\n",
    "            command=master.quit)\n",
    "\n",
    "        button.pack(fill=tk.X, padx=5, pady=5)\n",
    "\n",
    "\n",
    "\n",
    "\n",
    "\n",
    "        master.mainloop()\n",
    "        master.destroy()\n",
    "\n",
    "        if which_button_is_selected == '1': # Résolution part\n",
    "            print('OK PSF')\n",
    "\n",
    "            Input_folder = pa.select_folder() # Select input folder\n",
    "            print('\\n')\n",
    "            Processed_folder = pa.processed_path(Input_folder[0], Input_folder[1]) # Find MetroloJ_QC Processed folder\n",
    "            DF = pa.convert_to_df(Processed_folder, Input_folder[1], Input_folder[2], Input_folder[3], Input_folder[4], Input_folder[0]) # Creat dataframe containing all data\n",
    "            # DF[0] => dataframe for XYZ data\n",
    "            # DF[1] => dataframe for SBR data\n",
    "            DF_XYZ_stat = pa.XYZ_stats(DF[0]) # Stat for XYZ data\n",
    "            DF_SBR_stat = pa.SBR_stats(DF[1]) # Stat for SBR data\n",
    "            print('\\n')\n",
    "            param_selected = pa.select_param() # Select analyze parameters to plot\n",
    "            print('\\n')\n",
    "            pa.display_selected_plot(param_selected[1], param_selected[0], DF[0], DF[1], DF_XYZ_stat, DF_SBR_stat[0], Input_folder[0], DF_SBR_stat[1])\n",
    "\n",
    "\n",
    "\n",
    "\n",
    "        elif which_button_is_selected == '2': # Coregistration part\n",
    "            print('OK Coreg')\n",
    "\n",
    "            Input_folder = ca.select_folder() # Select input folder\n",
    "            print('\\n')\n",
    "            Processed_folder = ca.processed_path(Input_folder[0], Input_folder[1]) # Find MetroloJ_QC Processed folder\n",
    "            DF = ca.convert_to_df(Processed_folder, Input_folder[1], Input_folder[2], Input_folder[3], Input_folder[4], Input_folder[0]) # Creat dataframe containing all data\n",
    "            DF_stat = ca.coreg_stats(DF[0], DF[1]) # Dataframe for all stat\n",
    "            print('\\n')\n",
    "            param_selected = ca.select_param() # Select analyze parameters to plot\n",
    "            print('\\n')\n",
    "            date_list = DF[1]['Date'].tolist()\n",
    "            ca.display_selected_plot(param_selected[1], param_selected[0], DF[0], DF_stat[0], Input_folder[0], DF_stat[1], DF[2], date_list)"
   ]
  },
  {
   "cell_type": "code",
   "execution_count": 3,
   "id": "ab044e96",
   "metadata": {},
   "outputs": [
    {
     "data": {
      "application/vnd.jupyter.widget-view+json": {
       "model_id": "2722abf87b30438db82b1c86ab3b4a1f",
       "version_major": 2,
       "version_minor": 0
      },
      "text/plain": [
       "HBox(children=(Button(description='Click to Start !', layout=Layout(height='80px', width='25%'), style=ButtonS…"
      ]
     },
     "metadata": {},
     "output_type": "display_data"
    },
    {
     "data": {
      "application/vnd.jupyter.widget-view+json": {
       "model_id": "4044a5ed4dd349ccad5e72f43ab0921b",
       "version_major": 2,
       "version_minor": 0
      },
      "text/plain": [
       "Output()"
      ]
     },
     "metadata": {},
     "output_type": "display_data"
    }
   ],
   "source": [
    "button = widgets.Button(description=\"Click to Start !\", style=dict(font_weight='bold',\n",
    "                                                                  button_color = 'lightgreen'), \n",
    "                        layout = widgets.Layout(width = '25%', height = '80px'))\n",
    "output = widgets.Output()\n",
    "\n",
    "box_layout = widgets.Layout(display='flex', flex_flow='column',\n",
    "                            align_items='center')\n",
    "box = widgets.HBox(children=[button],layout=box_layout)\n",
    "\n",
    "display(box, output)\n",
    "\n",
    "button.on_click(start)"
   ]
  },
  {
   "cell_type": "code",
   "execution_count": null,
   "id": "1a77bdd0",
   "metadata": {},
   "outputs": [],
   "source": []
  }
 ],
 "metadata": {
  "kernelspec": {
   "display_name": "Python 3 (ipykernel)",
   "language": "python",
   "name": "python3"
  },
  "language_info": {
   "codemirror_mode": {
    "name": "ipython",
    "version": 3
   },
   "file_extension": ".py",
   "mimetype": "text/x-python",
   "name": "python",
   "nbconvert_exporter": "python",
   "pygments_lexer": "ipython3",
   "version": "3.9.7"
  }
 },
 "nbformat": 4,
 "nbformat_minor": 5
}
